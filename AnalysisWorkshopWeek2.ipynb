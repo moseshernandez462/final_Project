{
 "cells": [
  {
   "cell_type": "markdown",
   "id": "f693be93",
   "metadata": {},
   "source": [
    "# Analysis Workshop Week 2 Notebook\n",
    "\n",
    "This week we'll be going through and doing some waveform processing examples together as a group."
   ]
  },
  {
   "cell_type": "markdown",
   "id": "47d1804d",
   "metadata": {},
   "source": [
    "## Step 1: Importing nabPy and deltarice libraries\n",
    "\n",
    "On the GT cluster (or on your personal computer) you need to add both of these to your PYTHONPATH variable. \n",
    "\n",
    "You can do this via bash script, or you can do it the way I show below here. If you're on the GT cluster, I recommend this method instead because I've noticed that system variables like PYTHONPATH can be reset when you submit new jobs. \n",
    "\n",
    "Basically what this does is tells the Python import system where to look for libraries and you're giving it a new location to find deltarice and also nabPy. Note that pyNab is nabPy and vice-versa. There was a name change at one point for pip reasons. "
   ]
  },
  {
   "cell_type": "code",
   "execution_count": 2,
   "id": "78502977",
   "metadata": {
    "tags": []
   },
   "outputs": [],
   "source": [
    "import sys\n",
    "import os\n",
    "# userpath = os.path.expanduser('~')\n",
    "# sys.path.append(userpath+\"/p-nab/deltarice/build/lib.linux-x86_64-3.9\")\n",
    "# sys.path.append(userpath+\"/p-nab/pyNab/src/\")\n",
    "sys.path.append(\"/Volumes/Everything/NPET/NABwork/deltarice/build/lib.macosx-11.1-arm64-cpython-39\")\n",
    "sys.path.append(\"/Volumes/Everything/NPET/NABwork/pyNab/src/\")\n",
    "import nabPy as Nab"
   ]
  },
  {
   "cell_type": "markdown",
   "id": "dd0047f0",
   "metadata": {},
   "source": [
    "## What is nabPy and what does it include?\n",
    "\n",
    "nabPy is three things:\n",
    "- A collection of classes to help with reading the data files\n",
    "- A collection of standard analysis functions, mostly waveform processing related\n",
    "- Incomplete: It needs work! Plenty of places to improve things and develop if you want something to work on. "
   ]
  },
  {
   "cell_type": "code",
   "execution_count": 3,
   "id": "058ee1a8",
   "metadata": {
    "tags": []
   },
   "outputs": [],
   "source": [
    "#currentDirectory = os.getcwd()\n",
    "# run = Nab.DataRun('/storage/home/hcoda1/9/dmathews33/p-nab/AnalysisWorkshops/files/', 3451)\n",
    "run = Nab.DataRun('/Volumes/Everything/NPET/getting started code/', 3516)"
   ]
  },
  {
   "cell_type": "markdown",
   "id": "c6c73713",
   "metadata": {},
   "source": [
    "## A class for each data type basically\n",
    "\n",
    "- Parameters = run.parameterFile()\n",
    "- Triggers = run.triggers()\n",
    "- events = currently broken do not use :(\n",
    "- waveforms\n",
    "    - singles = run.singleWaves()\n",
    "    - coincidences = run.coincWaves()\n",
    "    - baselines = run.noiseWaves()\n",
    "    - pulsers = run.pulsrWaves()\n",
    "    - cosmics = not currently implemented, anybody want to do that?"
   ]
  },
  {
   "cell_type": "code",
   "execution_count": 4,
   "id": "ec9a6634",
   "metadata": {
    "tags": []
   },
   "outputs": [],
   "source": [
    "triggers = run.triggers()\n",
    "triggers.resetCuts()\n",
    "triggers.defineCut('pixel', '=', 119)\n",
    "triggers.defineCut('energy', 'between', 10, 30)\n",
    "pixel119 = triggers.triggers()"
   ]
  },
  {
   "cell_type": "code",
   "execution_count": 5,
   "id": "53d564d5",
   "metadata": {
    "tags": []
   },
   "outputs": [
    {
     "data": {
      "text/html": [
       "<div>\n",
       "<style scoped>\n",
       "    .dataframe tbody tr th:only-of-type {\n",
       "        vertical-align: middle;\n",
       "    }\n",
       "\n",
       "    .dataframe tbody tr th {\n",
       "        vertical-align: top;\n",
       "    }\n",
       "\n",
       "    .dataframe thead th {\n",
       "        text-align: right;\n",
       "    }\n",
       "</style>\n",
       "<table border=\"1\" class=\"dataframe\">\n",
       "  <thead>\n",
       "    <tr style=\"text-align: right;\">\n",
       "      <th></th>\n",
       "      <th>result</th>\n",
       "      <th>bc</th>\n",
       "      <th>timestamp</th>\n",
       "      <th>req</th>\n",
       "      <th>event type</th>\n",
       "      <th>hit type</th>\n",
       "      <th>blank</th>\n",
       "      <th>eventid</th>\n",
       "      <th>checksum</th>\n",
       "      <th>board</th>\n",
       "      <th>channel</th>\n",
       "      <th>unix timestamp</th>\n",
       "      <th>pixel</th>\n",
       "    </tr>\n",
       "  </thead>\n",
       "  <tbody>\n",
       "    <tr>\n",
       "      <th>0</th>\n",
       "      <td>1</td>\n",
       "      <td>23</td>\n",
       "      <td>2823165215974</td>\n",
       "      <td>2823179168396</td>\n",
       "      <td>0</td>\n",
       "      <td>0</td>\n",
       "      <td>0</td>\n",
       "      <td>419</td>\n",
       "      <td>2059865232</td>\n",
       "      <td>2</td>\n",
       "      <td>7</td>\n",
       "      <td>4.225448e+17</td>\n",
       "      <td>116</td>\n",
       "    </tr>\n",
       "    <tr>\n",
       "      <th>1</th>\n",
       "      <td>1</td>\n",
       "      <td>43</td>\n",
       "      <td>2823164948846</td>\n",
       "      <td>2823179197470</td>\n",
       "      <td>0</td>\n",
       "      <td>0</td>\n",
       "      <td>0</td>\n",
       "      <td>420</td>\n",
       "      <td>2877103262</td>\n",
       "      <td>5</td>\n",
       "      <td>3</td>\n",
       "      <td>4.225448e+17</td>\n",
       "      <td>64</td>\n",
       "    </tr>\n",
       "    <tr>\n",
       "      <th>2</th>\n",
       "      <td>1</td>\n",
       "      <td>43</td>\n",
       "      <td>2823164982386</td>\n",
       "      <td>2823179222606</td>\n",
       "      <td>0</td>\n",
       "      <td>0</td>\n",
       "      <td>0</td>\n",
       "      <td>421</td>\n",
       "      <td>3882941308</td>\n",
       "      <td>5</td>\n",
       "      <td>3</td>\n",
       "      <td>4.225448e+17</td>\n",
       "      <td>64</td>\n",
       "    </tr>\n",
       "    <tr>\n",
       "      <th>3</th>\n",
       "      <td>1</td>\n",
       "      <td>43</td>\n",
       "      <td>2823164994866</td>\n",
       "      <td>2823179247742</td>\n",
       "      <td>0</td>\n",
       "      <td>0</td>\n",
       "      <td>0</td>\n",
       "      <td>422</td>\n",
       "      <td>96533804</td>\n",
       "      <td>5</td>\n",
       "      <td>3</td>\n",
       "      <td>4.225448e+17</td>\n",
       "      <td>64</td>\n",
       "    </tr>\n",
       "    <tr>\n",
       "      <th>4</th>\n",
       "      <td>1</td>\n",
       "      <td>43</td>\n",
       "      <td>2823165053766</td>\n",
       "      <td>2823179272946</td>\n",
       "      <td>0</td>\n",
       "      <td>0</td>\n",
       "      <td>0</td>\n",
       "      <td>423</td>\n",
       "      <td>1643792359</td>\n",
       "      <td>5</td>\n",
       "      <td>3</td>\n",
       "      <td>4.225448e+17</td>\n",
       "      <td>64</td>\n",
       "    </tr>\n",
       "    <tr>\n",
       "      <th>...</th>\n",
       "      <td>...</td>\n",
       "      <td>...</td>\n",
       "      <td>...</td>\n",
       "      <td>...</td>\n",
       "      <td>...</td>\n",
       "      <td>...</td>\n",
       "      <td>...</td>\n",
       "      <td>...</td>\n",
       "      <td>...</td>\n",
       "      <td>...</td>\n",
       "      <td>...</td>\n",
       "      <td>...</td>\n",
       "      <td>...</td>\n",
       "    </tr>\n",
       "    <tr>\n",
       "      <th>265342</th>\n",
       "      <td>1</td>\n",
       "      <td>217</td>\n",
       "      <td>2831478947902</td>\n",
       "      <td>2831482797596</td>\n",
       "      <td>0</td>\n",
       "      <td>0</td>\n",
       "      <td>0</td>\n",
       "      <td>357483</td>\n",
       "      <td>459125848</td>\n",
       "      <td>27</td>\n",
       "      <td>1</td>\n",
       "      <td>4.225448e+17</td>\n",
       "      <td>1082</td>\n",
       "    </tr>\n",
       "    <tr>\n",
       "      <th>265343</th>\n",
       "      <td>1</td>\n",
       "      <td>211</td>\n",
       "      <td>2831479098726</td>\n",
       "      <td>2831482806114</td>\n",
       "      <td>0</td>\n",
       "      <td>0</td>\n",
       "      <td>0</td>\n",
       "      <td>357484</td>\n",
       "      <td>3395580413</td>\n",
       "      <td>26</td>\n",
       "      <td>3</td>\n",
       "      <td>4.225448e+17</td>\n",
       "      <td>1065</td>\n",
       "    </tr>\n",
       "    <tr>\n",
       "      <th>265344</th>\n",
       "      <td>1</td>\n",
       "      <td>189</td>\n",
       "      <td>2831479214732</td>\n",
       "      <td>2831482810110</td>\n",
       "      <td>0</td>\n",
       "      <td>0</td>\n",
       "      <td>0</td>\n",
       "      <td>357485</td>\n",
       "      <td>2093666155</td>\n",
       "      <td>23</td>\n",
       "      <td>5</td>\n",
       "      <td>4.225448e+17</td>\n",
       "      <td>1052</td>\n",
       "    </tr>\n",
       "    <tr>\n",
       "      <th>265345</th>\n",
       "      <td>1</td>\n",
       "      <td>189</td>\n",
       "      <td>2831479219322</td>\n",
       "      <td>2831482835218</td>\n",
       "      <td>0</td>\n",
       "      <td>0</td>\n",
       "      <td>0</td>\n",
       "      <td>357486</td>\n",
       "      <td>3343935807</td>\n",
       "      <td>23</td>\n",
       "      <td>5</td>\n",
       "      <td>4.225448e+17</td>\n",
       "      <td>1052</td>\n",
       "    </tr>\n",
       "    <tr>\n",
       "      <th>265346</th>\n",
       "      <td>1</td>\n",
       "      <td>228</td>\n",
       "      <td>2831479446666</td>\n",
       "      <td>2831482824414</td>\n",
       "      <td>0</td>\n",
       "      <td>0</td>\n",
       "      <td>0</td>\n",
       "      <td>357487</td>\n",
       "      <td>4188728140</td>\n",
       "      <td>28</td>\n",
       "      <td>4</td>\n",
       "      <td>4.225448e+17</td>\n",
       "      <td>1078</td>\n",
       "    </tr>\n",
       "  </tbody>\n",
       "</table>\n",
       "<p>265347 rows × 13 columns</p>\n",
       "</div>"
      ],
      "text/plain": [
       "        result   bc      timestamp            req  event type  hit type  \\\n",
       "0            1   23  2823165215974  2823179168396           0         0   \n",
       "1            1   43  2823164948846  2823179197470           0         0   \n",
       "2            1   43  2823164982386  2823179222606           0         0   \n",
       "3            1   43  2823164994866  2823179247742           0         0   \n",
       "4            1   43  2823165053766  2823179272946           0         0   \n",
       "...        ...  ...            ...            ...         ...       ...   \n",
       "265342       1  217  2831478947902  2831482797596           0         0   \n",
       "265343       1  211  2831479098726  2831482806114           0         0   \n",
       "265344       1  189  2831479214732  2831482810110           0         0   \n",
       "265345       1  189  2831479219322  2831482835218           0         0   \n",
       "265346       1  228  2831479446666  2831482824414           0         0   \n",
       "\n",
       "        blank  eventid    checksum  board  channel  unix timestamp  pixel  \n",
       "0           0      419  2059865232      2        7    4.225448e+17    116  \n",
       "1           0      420  2877103262      5        3    4.225448e+17     64  \n",
       "2           0      421  3882941308      5        3    4.225448e+17     64  \n",
       "3           0      422    96533804      5        3    4.225448e+17     64  \n",
       "4           0      423  1643792359      5        3    4.225448e+17     64  \n",
       "...       ...      ...         ...    ...      ...             ...    ...  \n",
       "265342      0   357483   459125848     27        1    4.225448e+17   1082  \n",
       "265343      0   357484  3395580413     26        3    4.225448e+17   1065  \n",
       "265344      0   357485  2093666155     23        5    4.225448e+17   1052  \n",
       "265345      0   357486  3343935807     23        5    4.225448e+17   1052  \n",
       "265346      0   357487  4188728140     28        4    4.225448e+17   1078  \n",
       "\n",
       "[265347 rows x 13 columns]"
      ]
     },
     "execution_count": 5,
     "metadata": {},
     "output_type": "execute_result"
    }
   ],
   "source": [
    "singles = run.singleWaves()\n",
    "singles.headers()"
   ]
  },
  {
   "cell_type": "code",
   "execution_count": 58,
   "id": "5d513fd1-55b1-4d05-863a-7f908d59663d",
   "metadata": {
    "tags": []
   },
   "outputs": [
    {
     "data": {
      "text/html": [
       "<div>\n",
       "<style scoped>\n",
       "    .dataframe tbody tr th:only-of-type {\n",
       "        vertical-align: middle;\n",
       "    }\n",
       "\n",
       "    .dataframe tbody tr th {\n",
       "        vertical-align: top;\n",
       "    }\n",
       "\n",
       "    .dataframe thead th {\n",
       "        text-align: right;\n",
       "    }\n",
       "</style>\n",
       "<table border=\"1\" class=\"dataframe\">\n",
       "  <thead>\n",
       "    <tr style=\"text-align: right;\">\n",
       "      <th></th>\n",
       "      <th>result</th>\n",
       "      <th>bc</th>\n",
       "      <th>timestamp</th>\n",
       "      <th>req</th>\n",
       "      <th>event type</th>\n",
       "      <th>hit type</th>\n",
       "      <th>blank</th>\n",
       "      <th>eventid</th>\n",
       "      <th>checksum</th>\n",
       "      <th>board</th>\n",
       "      <th>channel</th>\n",
       "      <th>unix timestamp</th>\n",
       "      <th>pixel</th>\n",
       "    </tr>\n",
       "  </thead>\n",
       "  <tbody>\n",
       "    <tr>\n",
       "      <th>19</th>\n",
       "      <td>1</td>\n",
       "      <td>5</td>\n",
       "      <td>2823145667488</td>\n",
       "      <td>2823170896802</td>\n",
       "      <td>1</td>\n",
       "      <td>2</td>\n",
       "      <td>0</td>\n",
       "      <td>10</td>\n",
       "      <td>117517634</td>\n",
       "      <td>0</td>\n",
       "      <td>5</td>\n",
       "      <td>4.225448e+17</td>\n",
       "      <td>119</td>\n",
       "    </tr>\n",
       "    <tr>\n",
       "      <th>86</th>\n",
       "      <td>1</td>\n",
       "      <td>5</td>\n",
       "      <td>2823172958696</td>\n",
       "      <td>2823184818034</td>\n",
       "      <td>1</td>\n",
       "      <td>0</td>\n",
       "      <td>0</td>\n",
       "      <td>1164</td>\n",
       "      <td>162684091</td>\n",
       "      <td>0</td>\n",
       "      <td>5</td>\n",
       "      <td>4.225448e+17</td>\n",
       "      <td>119</td>\n",
       "    </tr>\n",
       "    <tr>\n",
       "      <th>109</th>\n",
       "      <td>1</td>\n",
       "      <td>5</td>\n",
       "      <td>2823175801876</td>\n",
       "      <td>2823185013544</td>\n",
       "      <td>1</td>\n",
       "      <td>0</td>\n",
       "      <td>0</td>\n",
       "      <td>1174</td>\n",
       "      <td>2223041446</td>\n",
       "      <td>0</td>\n",
       "      <td>5</td>\n",
       "      <td>4.225448e+17</td>\n",
       "      <td>119</td>\n",
       "    </tr>\n",
       "    <tr>\n",
       "      <th>343</th>\n",
       "      <td>1</td>\n",
       "      <td>5</td>\n",
       "      <td>2823227008774</td>\n",
       "      <td>2823229567802</td>\n",
       "      <td>1</td>\n",
       "      <td>2</td>\n",
       "      <td>0</td>\n",
       "      <td>3622</td>\n",
       "      <td>3046041428</td>\n",
       "      <td>0</td>\n",
       "      <td>5</td>\n",
       "      <td>4.225448e+17</td>\n",
       "      <td>119</td>\n",
       "    </tr>\n",
       "    <tr>\n",
       "      <th>375</th>\n",
       "      <td>1</td>\n",
       "      <td>5</td>\n",
       "      <td>2823233606380</td>\n",
       "      <td>2823235414730</td>\n",
       "      <td>1</td>\n",
       "      <td>2</td>\n",
       "      <td>0</td>\n",
       "      <td>3874</td>\n",
       "      <td>1965451317</td>\n",
       "      <td>0</td>\n",
       "      <td>5</td>\n",
       "      <td>4.225448e+17</td>\n",
       "      <td>119</td>\n",
       "    </tr>\n",
       "    <tr>\n",
       "      <th>...</th>\n",
       "      <td>...</td>\n",
       "      <td>...</td>\n",
       "      <td>...</td>\n",
       "      <td>...</td>\n",
       "      <td>...</td>\n",
       "      <td>...</td>\n",
       "      <td>...</td>\n",
       "      <td>...</td>\n",
       "      <td>...</td>\n",
       "      <td>...</td>\n",
       "      <td>...</td>\n",
       "      <td>...</td>\n",
       "      <td>...</td>\n",
       "    </tr>\n",
       "    <tr>\n",
       "      <th>37574</th>\n",
       "      <td>1</td>\n",
       "      <td>5</td>\n",
       "      <td>2831268220818</td>\n",
       "      <td>2831271636112</td>\n",
       "      <td>1</td>\n",
       "      <td>2</td>\n",
       "      <td>0</td>\n",
       "      <td>348257</td>\n",
       "      <td>1721530520</td>\n",
       "      <td>0</td>\n",
       "      <td>5</td>\n",
       "      <td>4.225448e+17</td>\n",
       "      <td>119</td>\n",
       "    </tr>\n",
       "    <tr>\n",
       "      <th>37681</th>\n",
       "      <td>1</td>\n",
       "      <td>5</td>\n",
       "      <td>2831286867926</td>\n",
       "      <td>2831289454924</td>\n",
       "      <td>1</td>\n",
       "      <td>2</td>\n",
       "      <td>0</td>\n",
       "      <td>349032</td>\n",
       "      <td>1112460064</td>\n",
       "      <td>0</td>\n",
       "      <td>5</td>\n",
       "      <td>4.225448e+17</td>\n",
       "      <td>119</td>\n",
       "    </tr>\n",
       "    <tr>\n",
       "      <th>37880</th>\n",
       "      <td>1</td>\n",
       "      <td>5</td>\n",
       "      <td>2831331366222</td>\n",
       "      <td>2831334589506</td>\n",
       "      <td>1</td>\n",
       "      <td>2</td>\n",
       "      <td>0</td>\n",
       "      <td>350915</td>\n",
       "      <td>521630983</td>\n",
       "      <td>0</td>\n",
       "      <td>5</td>\n",
       "      <td>4.225448e+17</td>\n",
       "      <td>119</td>\n",
       "    </tr>\n",
       "    <tr>\n",
       "      <th>37934</th>\n",
       "      <td>1</td>\n",
       "      <td>5</td>\n",
       "      <td>2831341968408</td>\n",
       "      <td>2831344652528</td>\n",
       "      <td>1</td>\n",
       "      <td>2</td>\n",
       "      <td>0</td>\n",
       "      <td>351423</td>\n",
       "      <td>4059781471</td>\n",
       "      <td>0</td>\n",
       "      <td>5</td>\n",
       "      <td>4.225448e+17</td>\n",
       "      <td>119</td>\n",
       "    </tr>\n",
       "    <tr>\n",
       "      <th>38459</th>\n",
       "      <td>1</td>\n",
       "      <td>5</td>\n",
       "      <td>2831455010686</td>\n",
       "      <td>2831458992576</td>\n",
       "      <td>1</td>\n",
       "      <td>2</td>\n",
       "      <td>0</td>\n",
       "      <td>356436</td>\n",
       "      <td>1273111183</td>\n",
       "      <td>0</td>\n",
       "      <td>5</td>\n",
       "      <td>4.225448e+17</td>\n",
       "      <td>119</td>\n",
       "    </tr>\n",
       "  </tbody>\n",
       "</table>\n",
       "<p>145 rows × 13 columns</p>\n",
       "</div>"
      ],
      "text/plain": [
       "       result  bc      timestamp            req  event type  hit type  blank  \\\n",
       "19          1   5  2823145667488  2823170896802           1         2      0   \n",
       "86          1   5  2823172958696  2823184818034           1         0      0   \n",
       "109         1   5  2823175801876  2823185013544           1         0      0   \n",
       "343         1   5  2823227008774  2823229567802           1         2      0   \n",
       "375         1   5  2823233606380  2823235414730           1         2      0   \n",
       "...       ...  ..            ...            ...         ...       ...    ...   \n",
       "37574       1   5  2831268220818  2831271636112           1         2      0   \n",
       "37681       1   5  2831286867926  2831289454924           1         2      0   \n",
       "37880       1   5  2831331366222  2831334589506           1         2      0   \n",
       "37934       1   5  2831341968408  2831344652528           1         2      0   \n",
       "38459       1   5  2831455010686  2831458992576           1         2      0   \n",
       "\n",
       "       eventid    checksum  board  channel  unix timestamp  pixel  \n",
       "19          10   117517634      0        5    4.225448e+17    119  \n",
       "86        1164   162684091      0        5    4.225448e+17    119  \n",
       "109       1174  2223041446      0        5    4.225448e+17    119  \n",
       "343       3622  3046041428      0        5    4.225448e+17    119  \n",
       "375       3874  1965451317      0        5    4.225448e+17    119  \n",
       "...        ...         ...    ...      ...             ...    ...  \n",
       "37574   348257  1721530520      0        5    4.225448e+17    119  \n",
       "37681   349032  1112460064      0        5    4.225448e+17    119  \n",
       "37880   350915   521630983      0        5    4.225448e+17    119  \n",
       "37934   351423  4059781471      0        5    4.225448e+17    119  \n",
       "38459   356436  1273111183      0        5    4.225448e+17    119  \n",
       "\n",
       "[145 rows x 13 columns]"
      ]
     },
     "execution_count": 58,
     "metadata": {},
     "output_type": "execute_result"
    }
   ],
   "source": [
    "coin = run.coincWaves()\n",
    "coin.defineCut('pixel', '=', 119)\n",
    "coin.headers()\n",
    "# coin = coin.waves()"
   ]
  },
  {
   "cell_type": "code",
   "execution_count": 59,
   "id": "1ce75040-ffda-40a4-8662-b190ecea051a",
   "metadata": {
    "tags": []
   },
   "outputs": [
    {
     "ename": "TypeError",
     "evalue": "'waveformFile' object is not subscriptable",
     "output_type": "error",
     "traceback": [
      "\u001b[0;31m---------------------------------------------------------------------------\u001b[0m",
      "\u001b[0;31mTypeError\u001b[0m                                 Traceback (most recent call last)",
      "Cell \u001b[0;32mIn[59], line 2\u001b[0m\n\u001b[1;32m      1\u001b[0m \u001b[38;5;28;01mfor\u001b[39;00m i \u001b[38;5;129;01min\u001b[39;00m \u001b[38;5;28mrange\u001b[39m(\u001b[38;5;241m10\u001b[39m):\n\u001b[0;32m----> 2\u001b[0m     Nab\u001b[38;5;241m.\u001b[39mplt\u001b[38;5;241m.\u001b[39mplot(\u001b[43mcoin\u001b[49m\u001b[43m[\u001b[49m\u001b[43mi\u001b[49m\u001b[43m]\u001b[49m)\n\u001b[1;32m      3\u001b[0m     Nab\u001b[38;5;241m.\u001b[39mplt\u001b[38;5;241m.\u001b[39mxlim(\u001b[38;5;241m3000\u001b[39m, \u001b[38;5;241m4000\u001b[39m)\n\u001b[1;32m      4\u001b[0m     Nab\u001b[38;5;241m.\u001b[39mplt\u001b[38;5;241m.\u001b[39mshow()\n",
      "\u001b[0;31mTypeError\u001b[0m: 'waveformFile' object is not subscriptable"
     ]
    }
   ],
   "source": [
    "for i in range(10):\n",
    "    Nab.plt.plot(coin[i])\n",
    "    Nab.plt.xlim(3000, 4000)\n",
    "    Nab.plt.show()"
   ]
  },
  {
   "cell_type": "code",
   "execution_count": 19,
   "id": "d6ffe8bb-9fd7-4215-897b-24b3be797e5a",
   "metadata": {
    "tags": []
   },
   "outputs": [
    {
     "name": "stdout",
     "output_type": "stream",
     "text": [
      "None\n"
     ]
    }
   ],
   "source": [
    "pulsers = run.pulsrWaves().waves()\n",
    "print(pulsers)"
   ]
  },
  {
   "cell_type": "code",
   "execution_count": 45,
   "id": "6b26d497",
   "metadata": {
    "tags": []
   },
   "outputs": [],
   "source": [
    "singles.resetCuts()\n",
    "singles.defineCut('pixel', '=', 64)\n",
    "waveforms = singles.waves()"
   ]
  },
  {
   "cell_type": "code",
   "execution_count": 19,
   "id": "684234dc-afad-4296-821f-e939f76a8d30",
   "metadata": {
    "tags": []
   },
   "outputs": [
    {
     "name": "stdout",
     "output_type": "stream",
     "text": [
      "Help on method compute in module dask.base:\n",
      "\n",
      "compute(**kwargs) method of dask.array.core.Array instance\n",
      "    Compute this dask collection\n",
      "    \n",
      "    This turns a lazy Dask collection into its in-memory equivalent.\n",
      "    For example a Dask array turns into a NumPy array and a Dask dataframe\n",
      "    turns into a Pandas dataframe.  The entire dataset must fit into memory\n",
      "    before calling this operation.\n",
      "    \n",
      "    Parameters\n",
      "    ----------\n",
      "    scheduler : string, optional\n",
      "        Which scheduler to use like \"threads\", \"synchronous\" or \"processes\".\n",
      "        If not provided, the default is to check the global settings first,\n",
      "        and then fall back to the collection defaults.\n",
      "    optimize_graph : bool, optional\n",
      "        If True [default], the graph is optimized before computation.\n",
      "        Otherwise the graph is run as is. This can be useful for debugging.\n",
      "    kwargs\n",
      "        Extra keywords to forward to the scheduler function.\n",
      "    \n",
      "    See Also\n",
      "    --------\n",
      "    dask.compute\n",
      "\n"
     ]
    }
   ],
   "source": [
    "help(singles.waves().compute)"
   ]
  },
  {
   "cell_type": "code",
   "execution_count": 46,
   "id": "1eb65769-f954-45b1-b32a-25d6712b87af",
   "metadata": {
    "tags": []
   },
   "outputs": [
    {
     "data": {
      "text/html": [
       "<table>\n",
       "    <tr>\n",
       "        <td>\n",
       "            <table style=\"border-collapse: collapse;\">\n",
       "                <thead>\n",
       "                    <tr>\n",
       "                        <td> </td>\n",
       "                        <th> Array </th>\n",
       "                        <th> Chunk </th>\n",
       "                    </tr>\n",
       "                </thead>\n",
       "                <tbody>\n",
       "                    \n",
       "                    <tr>\n",
       "                        <th> Bytes </th>\n",
       "                        <td> 3.70 GiB </td>\n",
       "                        <td> 135.20 MiB </td>\n",
       "                    </tr>\n",
       "                    \n",
       "                    <tr>\n",
       "                        <th> Shape </th>\n",
       "                        <td> (141960, 7000) </td>\n",
       "                        <td> (5063, 7000) </td>\n",
       "                    </tr>\n",
       "                    <tr>\n",
       "                        <th> Dask graph </th>\n",
       "                        <td colspan=\"2\"> 29 chunks in 4 graph layers </td>\n",
       "                    </tr>\n",
       "                    <tr>\n",
       "                        <th> Data type </th>\n",
       "                        <td colspan=\"2\"> float32 numpy.ndarray </td>\n",
       "                    </tr>\n",
       "                </tbody>\n",
       "            </table>\n",
       "        </td>\n",
       "        <td>\n",
       "        <svg width=\"84\" height=\"170\" style=\"stroke:rgb(0,0,0);stroke-width:1\" >\n",
       "\n",
       "  <!-- Horizontal lines -->\n",
       "  <line x1=\"0\" y1=\"0\" x2=\"34\" y2=\"0\" style=\"stroke-width:2\" />\n",
       "  <line x1=\"0\" y1=\"4\" x2=\"34\" y2=\"4\" />\n",
       "  <line x1=\"0\" y1=\"12\" x2=\"34\" y2=\"12\" />\n",
       "  <line x1=\"0\" y1=\"16\" x2=\"34\" y2=\"16\" />\n",
       "  <line x1=\"0\" y1=\"24\" x2=\"34\" y2=\"24\" />\n",
       "  <line x1=\"0\" y1=\"29\" x2=\"34\" y2=\"29\" />\n",
       "  <line x1=\"0\" y1=\"37\" x2=\"34\" y2=\"37\" />\n",
       "  <line x1=\"0\" y1=\"41\" x2=\"34\" y2=\"41\" />\n",
       "  <line x1=\"0\" y1=\"50\" x2=\"34\" y2=\"50\" />\n",
       "  <line x1=\"0\" y1=\"54\" x2=\"34\" y2=\"54\" />\n",
       "  <line x1=\"0\" y1=\"62\" x2=\"34\" y2=\"62\" />\n",
       "  <line x1=\"0\" y1=\"66\" x2=\"34\" y2=\"66\" />\n",
       "  <line x1=\"0\" y1=\"75\" x2=\"34\" y2=\"75\" />\n",
       "  <line x1=\"0\" y1=\"79\" x2=\"34\" y2=\"79\" />\n",
       "  <line x1=\"0\" y1=\"87\" x2=\"34\" y2=\"87\" />\n",
       "  <line x1=\"0\" y1=\"91\" x2=\"34\" y2=\"91\" />\n",
       "  <line x1=\"0\" y1=\"100\" x2=\"34\" y2=\"100\" />\n",
       "  <line x1=\"0\" y1=\"104\" x2=\"34\" y2=\"104\" />\n",
       "  <line x1=\"0\" y1=\"112\" x2=\"34\" y2=\"112\" />\n",
       "  <line x1=\"0\" y1=\"120\" x2=\"34\" y2=\"120\" style=\"stroke-width:2\" />\n",
       "\n",
       "  <!-- Vertical lines -->\n",
       "  <line x1=\"0\" y1=\"0\" x2=\"0\" y2=\"120\" style=\"stroke-width:2\" />\n",
       "  <line x1=\"34\" y1=\"0\" x2=\"34\" y2=\"120\" style=\"stroke-width:2\" />\n",
       "\n",
       "  <!-- Colored Rectangle -->\n",
       "  <polygon points=\"0.0,0.0 34.41587246050178,0.0 34.41587246050178,120.0 0.0,120.0\" style=\"fill:#8B4903A0;stroke-width:0\"/>\n",
       "\n",
       "  <!-- Text -->\n",
       "  <text x=\"17.207936\" y=\"140.000000\" font-size=\"1.0rem\" font-weight=\"100\" text-anchor=\"middle\" >7000</text>\n",
       "  <text x=\"54.415872\" y=\"60.000000\" font-size=\"1.0rem\" font-weight=\"100\" text-anchor=\"middle\" transform=\"rotate(-90,54.415872,60.000000)\">141960</text>\n",
       "</svg>\n",
       "        </td>\n",
       "    </tr>\n",
       "</table>"
      ],
      "text/plain": [
       "dask.array<astype, shape=(141960, 7000), dtype=float32, chunksize=(5063, 7000), chunktype=numpy.ndarray>"
      ]
     },
     "execution_count": 46,
     "metadata": {},
     "output_type": "execute_result"
    }
   ],
   "source": [
    "singles.waves()"
   ]
  },
  {
   "cell_type": "markdown",
   "id": "86f5da84",
   "metadata": {},
   "source": [
    "## Some basic signal processing with nabPy\n",
    "\n",
    "Let's start with the trapezoidal filter because it's the standard"
   ]
  },
  {
   "cell_type": "code",
   "execution_count": 7,
   "id": "efffb97c",
   "metadata": {
    "tags": []
   },
   "outputs": [],
   "source": [
    "singles.resetCuts()\n",
    "waveforms = singles.waves().compute()"
   ]
  },
  {
   "cell_type": "code",
   "execution_count": 20,
   "id": "eb95857d-035e-45af-ac7b-2df78cf1cda2",
   "metadata": {
    "tags": []
   },
   "outputs": [
    {
     "data": {
      "text/plain": [
       "array([[-57., -35., -17., ..., -40., -51., -47.],\n",
       "       [-55., -62., -64., ..., -51., -46., -47.],\n",
       "       [-71., -67., -63., ..., -46., -65., -81.],\n",
       "       ...,\n",
       "       [-23., -13.,   5., ...,  21.,  35.,  41.],\n",
       "       [592., 594., 607., ...,  -7., -10.,  -4.],\n",
       "       [ -1., -17., -23., ..., 101.,  93., 100.]], dtype=float32)"
      ]
     },
     "execution_count": 20,
     "metadata": {},
     "output_type": "execute_result"
    }
   ],
   "source": [
    "waveforms"
   ]
  },
  {
   "cell_type": "code",
   "execution_count": null,
   "id": "7781b7a3-bdef-4a57-999b-500491e60271",
   "metadata": {
    "tags": []
   },
   "outputs": [],
   "source": [
    "parameters = run.parameterFile()\n",
    "parameters.BoardChannelPixelMap"
   ]
  },
  {
   "cell_type": "code",
   "execution_count": null,
   "id": "83eb6797",
   "metadata": {
    "tags": []
   },
   "outputs": [],
   "source": [
    "parameters.FilterParameters"
   ]
  },
  {
   "cell_type": "code",
   "execution_count": null,
   "id": "8d206d87-172c-4be2-add3-74633a58782f",
   "metadata": {
    "tags": []
   },
   "outputs": [],
   "source": [
    "for i in range(100):\n",
    "    Nab.plt.plot(waveforms[i])\n",
    "    Nab.plt.show()"
   ]
  },
  {
   "cell_type": "code",
   "execution_count": 82,
   "id": "a85da3d5",
   "metadata": {
    "tags": []
   },
   "outputs": [
    {
     "data": {
      "image/png": "[encoded data removed]",
      "text/plain": [
       "<Figure size 640x480 with 1 Axes>"
      ]
     },
     "metadata": {},
     "output_type": "display_data"
    },
    {
     "data": {
      "image/png": "[encoded data removed]",
      "text/plain": [
       "<Figure size 640x480 with 1 Axes>"
      ]
     },
     "metadata": {},
     "output_type": "display_data"
    }
   ],
   "source": [
    "testWave = waveforms[152]\n",
    "\n",
    "rise = 1250 #this is tunable\n",
    "top = 100 #remember multiply by 4 to get ns\n",
    "tau = 1250 # this is in DAQ 4ns timebins\n",
    "filt = Nab.bf.defineSingleTrap(rise, top, tau)\n",
    "result = Nab.np.convolve(testWave, filt)\n",
    "\n",
    "Nab.plt.plot(testWave)\n",
    "Nab.plt.plot(result)\n",
    "\n",
    "rise = 1000 #this is tunable\n",
    "top = 100 #remember multiply by 4 to get ns\n",
    "tau = 1250 # this is in DAQ 4ns timebins\n",
    "filt = Nab.bf.defineSingleTrap(rise, top, tau)\n",
    "result = Nab.np.convolve(testWave, filt)\n",
    "\n",
    "Nab.plt.plot(result)\n",
    "Nab.plt.xlim(3000, 7000)\n",
    "Nab.plt.show()\n",
    "\n",
    "Nab.plt.plot(filt)\n",
    "Nab.plt.show()"
   ]
  },
  {
   "cell_type": "code",
   "execution_count": 11,
   "id": "de51a656-641f-41a3-b982-877cacfdcaad",
   "metadata": {
    "tags": []
   },
   "outputs": [
    {
     "name": "stdout",
     "output_type": "stream",
     "text": [
      "Help on method determineEnergyTiming in module nabPy.waveformFileClass:\n",
      "\n",
      "determineEnergyTiming(method=None, params=None, batchsize=1000, pretrig=None, useGPU=False, rechunk=False, useFFTW=True, offsets=None) method of nabPy.waveformFileClass.waveformFile instance\n",
      "    This function either runs the trapezoidal filter or the cusp filter depending on the inputs. \n",
      "    It only applies these operations on the subset of waveform data remaining after cuts have been applied.\n",
      "    It then returns the results of this operation as a resultFileClass object.\n",
      "    \n",
      "    Parameters\n",
      "    ----------\n",
      "    method: 'trap', 'cusp'\n",
      "            The method of extracting energies and timings from the waveforms.\n",
      "            For more information about each of these functions run these commands\n",
      "                    'trap': \"Nab.bf.applyTrapFilter?\"\n",
      "                    'cusp': \"Nab.bf.applyCuspFilter?\"\n",
      "                    'doubletrap': \"Nab.bf.applyDoubleTrapFilter?\"\n",
      "                    'pseudoFit': \"Nab.bf.pseudoInverseFit\"\n",
      "                    'pseudoTrap': \"Nab.bf.pseudoInverseTrapFilter?\"\n",
      "    params: list with varying elements depending on the method passed\n",
      "            (optional parameters shown in parenthesis)\n",
      "            'trap': [risetime , flat top length, decay rate, (threshold percent, mean, shift)]\n",
      "            'cusp': [risetime, flat top length, decay rate, (threshold percent, mean, shift)]\n",
      "            'doubletrap': [risetime , flat top length, decay rate, (threshold percent, mean, shift)]\n",
      "            'pseudoInverse': [templates, baselines, (filtert0=None, searchRange=10, t0weight=None, psdWeight=None, returnResiduals=False)]\n",
      "            'pseudoTrap': [templates, baselines, rise, top, tau, (percentage=0.8, filtert0=None, searchRange=10, t0weight=None, shift=0)]\n",
      "    batchsize: int, defaults to 1000\n",
      "            the number of waveforms to process at a time. Can be adjusted to optimize performance\n",
      "    pretrig: int\n",
      "            the length of the waveform before the DAQ trigger time. Used for adjusting the\n",
      "                    baseline offset to be 0. With no value passed it defaults to using the pretrigger\n",
      "                    read in from the waveform file\n",
      "    useGPU: bool, defaults to False\n",
      "            Experimental feature that isn't fully enabled yet. Leave on False for stable code execution.\n",
      "    rechunk: bool, defaults to False\n",
      "            Experimental feature to possibly aid performance with compressed data that has cuts applied\n",
      "    \n",
      "    Returns\n",
      "    -------\n",
      "    resultFile: class or None\n",
      "            Returns a resultFile class object with the energy and timing results in a new column.\n",
      "            If the code fails for some reason, such as no waveforms being present, this returns None\n",
      "\n"
     ]
    }
   ],
   "source": [
    "help(singles.determineEnergyTiming)"
   ]
  },
  {
   "cell_type": "code",
   "execution_count": 23,
   "id": "c537f748",
   "metadata": {
    "tags": []
   },
   "outputs": [],
   "source": [
    "singles.resetCuts()\n",
    "rise = 1250 #this is tunable\n",
    "top = 100 #remember multiply by 4 to get ns\n",
    "tau = 1250 # this is in DAQ 4ns timebins\n",
    "results = singles.determineEnergyTiming(method='trap', params=[rise, top, tau])"
   ]
  },
  {
   "cell_type": "code",
   "execution_count": 29,
   "id": "14ea0d0c-4453-4189-ba6a-5e9125c403b1",
   "metadata": {
    "tags": []
   },
   "outputs": [
    {
     "name": "stdout",
     "output_type": "stream",
     "text": [
      "        result   bc      timestamp            req  event type  hit type  \\\n",
      "0            1   23  2823165215974  2823179168396           0         0   \n",
      "1            1   43  2823164948846  2823179197470           0         0   \n",
      "2            1   43  2823164982386  2823179222606           0         0   \n",
      "3            1   43  2823164994866  2823179247742           0         0   \n",
      "4            1   43  2823165053766  2823179272946           0         0   \n",
      "...        ...  ...            ...            ...         ...       ...   \n",
      "265342       1  217  2831478947902  2831482797596           0         0   \n",
      "265343       1  211  2831479098726  2831482806114           0         0   \n",
      "265344       1  189  2831479214732  2831482810110           0         0   \n",
      "265345       1  189  2831479219322  2831482835218           0         0   \n",
      "265346       1  228  2831479446666  2831482824414           0         0   \n",
      "\n",
      "        blank  eventid    checksum  board  channel  unix timestamp  pixel  \\\n",
      "0           0      419  2059865232      2        7    4.225448e+17    116   \n",
      "1           0      420  2877103262      5        3    4.225448e+17     64   \n",
      "2           0      421  3882941308      5        3    4.225448e+17     64   \n",
      "3           0      422    96533804      5        3    4.225448e+17     64   \n",
      "4           0      423  1643792359      5        3    4.225448e+17     64   \n",
      "...       ...      ...         ...    ...      ...             ...    ...   \n",
      "265342      0   357483   459125848     27        1    4.225448e+17   1082   \n",
      "265343      0   357484  3395580413     26        3    4.225448e+17   1065   \n",
      "265344      0   357485  2093666155     23        5    4.225448e+17   1052   \n",
      "265345      0   357486  3343935807     23        5    4.225448e+17   1052   \n",
      "265346      0   357487  4188728140     28        4    4.225448e+17   1078   \n",
      "\n",
      "             energy      t0  \n",
      "0         22.213230  1320.0  \n",
      "1         21.744286  1478.0  \n",
      "2         29.243305  5496.0  \n",
      "3         25.045174  5538.5  \n",
      "4         27.474594  5367.0  \n",
      "...             ...     ...  \n",
      "265342   366.133759  3531.5  \n",
      "265343   447.374573  3481.5  \n",
      "265344  1519.695801  3480.5  \n",
      "265345  -533.663513  5279.0  \n",
      "265346  2186.833496  3485.5  \n",
      "\n",
      "[265347 rows x 15 columns]\n"
     ]
    }
   ],
   "source": [
    "print(results.data())"
   ]
  },
  {
   "cell_type": "code",
   "execution_count": 54,
   "id": "16f5d20d",
   "metadata": {
    "tags": []
   },
   "outputs": [
    {
     "data": {
      "image/png": "[encoded data removed]",
      "text/plain": [
       "<Figure size 640x480 with 1 Axes>"
      ]
     },
     "metadata": {},
     "output_type": "display_data"
    }
   ],
   "source": [
    "results.resetCuts()\n",
    "Nab.plt.hist(results.data()['energy'], bins = Nab.np.arange(-2000, 2000, 10))\n",
    "Nab.plt.yscale('log')\n",
    "Nab.plt.show()"
   ]
  },
  {
   "cell_type": "code",
   "execution_count": 17,
   "id": "be5d5da6",
   "metadata": {
    "tags": []
   },
   "outputs": [
    {
     "name": "stdout",
     "output_type": "stream",
     "text": [
      "Object `results.defineCut` not found.\n"
     ]
    }
   ],
   "source": [
    "results.defineCut?"
   ]
  },
  {
   "cell_type": "code",
   "execution_count": 30,
   "id": "2457a812",
   "metadata": {
    "tags": []
   },
   "outputs": [],
   "source": [
    "results.resetCuts()\n",
    "results.defineCut('energy', '>', 300)\n",
    "results.defineCut('t0', 'between', 3000, 4000)\n",
    "singles.resetCuts()\n",
    "singles.defineCut('custom', results.returnCut())\n",
    "goodWaves = singles.waves()"
   ]
  },
  {
   "cell_type": "code",
   "execution_count": 43,
   "id": "30de7d1d-4077-42cb-8875-563659e48cb8",
   "metadata": {
    "tags": []
   },
   "outputs": [
    {
     "data": {
      "text/html": [
       "<table>\n",
       "    <tr>\n",
       "        <td>\n",
       "            <table style=\"border-collapse: collapse;\">\n",
       "                <thead>\n",
       "                    <tr>\n",
       "                        <td> </td>\n",
       "                        <th> Array </th>\n",
       "                        <th> Chunk </th>\n",
       "                    </tr>\n",
       "                </thead>\n",
       "                <tbody>\n",
       "                    \n",
       "                    <tr>\n",
       "                        <th> Bytes </th>\n",
       "                        <td> 1.41 GiB </td>\n",
       "                        <td> 56.08 MiB </td>\n",
       "                    </tr>\n",
       "                    \n",
       "                    <tr>\n",
       "                        <th> Shape </th>\n",
       "                        <td> (53945, 7000) </td>\n",
       "                        <td> (2100, 7000) </td>\n",
       "                    </tr>\n",
       "                    <tr>\n",
       "                        <th> Dask graph </th>\n",
       "                        <td colspan=\"2\"> 29 chunks in 4 graph layers </td>\n",
       "                    </tr>\n",
       "                    <tr>\n",
       "                        <th> Data type </th>\n",
       "                        <td colspan=\"2\"> float32 numpy.ndarray </td>\n",
       "                    </tr>\n",
       "                </tbody>\n",
       "            </table>\n",
       "        </td>\n",
       "        <td>\n",
       "        <svg width=\"89\" height=\"170\" style=\"stroke:rgb(0,0,0);stroke-width:1\" >\n",
       "\n",
       "  <!-- Horizontal lines -->\n",
       "  <line x1=\"0\" y1=\"0\" x2=\"39\" y2=\"0\" style=\"stroke-width:2\" />\n",
       "  <line x1=\"0\" y1=\"3\" x2=\"39\" y2=\"3\" />\n",
       "  <line x1=\"0\" y1=\"12\" x2=\"39\" y2=\"12\" />\n",
       "  <line x1=\"0\" y1=\"16\" x2=\"39\" y2=\"16\" />\n",
       "  <line x1=\"0\" y1=\"24\" x2=\"39\" y2=\"24\" />\n",
       "  <line x1=\"0\" y1=\"28\" x2=\"39\" y2=\"28\" />\n",
       "  <line x1=\"0\" y1=\"37\" x2=\"39\" y2=\"37\" />\n",
       "  <line x1=\"0\" y1=\"41\" x2=\"39\" y2=\"41\" />\n",
       "  <line x1=\"0\" y1=\"49\" x2=\"39\" y2=\"49\" />\n",
       "  <line x1=\"0\" y1=\"53\" x2=\"39\" y2=\"53\" />\n",
       "  <line x1=\"0\" y1=\"61\" x2=\"39\" y2=\"61\" />\n",
       "  <line x1=\"0\" y1=\"65\" x2=\"39\" y2=\"65\" />\n",
       "  <line x1=\"0\" y1=\"74\" x2=\"39\" y2=\"74\" />\n",
       "  <line x1=\"0\" y1=\"78\" x2=\"39\" y2=\"78\" />\n",
       "  <line x1=\"0\" y1=\"87\" x2=\"39\" y2=\"87\" />\n",
       "  <line x1=\"0\" y1=\"91\" x2=\"39\" y2=\"91\" />\n",
       "  <line x1=\"0\" y1=\"100\" x2=\"39\" y2=\"100\" />\n",
       "  <line x1=\"0\" y1=\"104\" x2=\"39\" y2=\"104\" />\n",
       "  <line x1=\"0\" y1=\"112\" x2=\"39\" y2=\"112\" />\n",
       "  <line x1=\"0\" y1=\"120\" x2=\"39\" y2=\"120\" style=\"stroke-width:2\" />\n",
       "\n",
       "  <!-- Vertical lines -->\n",
       "  <line x1=\"0\" y1=\"0\" x2=\"0\" y2=\"120\" style=\"stroke-width:2\" />\n",
       "  <line x1=\"39\" y1=\"0\" x2=\"39\" y2=\"120\" style=\"stroke-width:2\" />\n",
       "\n",
       "  <!-- Colored Rectangle -->\n",
       "  <polygon points=\"0.0,0.0 39.98614355695791,0.0 39.98614355695791,120.0 0.0,120.0\" style=\"fill:#8B4903A0;stroke-width:0\"/>\n",
       "\n",
       "  <!-- Text -->\n",
       "  <text x=\"19.993072\" y=\"140.000000\" font-size=\"1.0rem\" font-weight=\"100\" text-anchor=\"middle\" >7000</text>\n",
       "  <text x=\"59.986144\" y=\"60.000000\" font-size=\"1.0rem\" font-weight=\"100\" text-anchor=\"middle\" transform=\"rotate(-90,59.986144,60.000000)\">53945</text>\n",
       "</svg>\n",
       "        </td>\n",
       "    </tr>\n",
       "</table>"
      ],
      "text/plain": [
       "dask.array<astype, shape=(53945, 7000), dtype=float32, chunksize=(2100, 7000), chunktype=numpy.ndarray>"
      ]
     },
     "execution_count": 43,
     "metadata": {},
     "output_type": "execute_result"
    }
   ],
   "source": [
    "goodWaves"
   ]
  },
  {
   "cell_type": "code",
   "execution_count": 56,
   "id": "e5a14553",
   "metadata": {
    "tags": []
   },
   "outputs": [
    {
     "data": {
      "image/png": "[encoded data removed]",
      "text/plain": [
       "<Figure size 640x480 with 1 Axes>"
      ]
     },
     "metadata": {},
     "output_type": "display_data"
    }
   ],
   "source": [
    "for i in range(10):\n",
    "    Nab.plt.plot(goodWaves[i])\n",
    "Nab.plt.show()"
   ]
  },
  {
   "cell_type": "code",
   "execution_count": 59,
   "id": "8a7a7e09",
   "metadata": {
    "tags": []
   },
   "outputs": [],
   "source": [
    "singles.resetCuts()"
   ]
  },
  {
   "cell_type": "code",
   "execution_count": 62,
   "id": "b09689fc-de0f-494d-9d51-f1fb689f33d9",
   "metadata": {
    "tags": []
   },
   "outputs": [
    {
     "data": {
      "text/html": [
       "<div>\n",
       "<style scoped>\n",
       "    .dataframe tbody tr th:only-of-type {\n",
       "        vertical-align: middle;\n",
       "    }\n",
       "\n",
       "    .dataframe tbody tr th {\n",
       "        vertical-align: top;\n",
       "    }\n",
       "\n",
       "    .dataframe thead th {\n",
       "        text-align: right;\n",
       "    }\n",
       "</style>\n",
       "<table border=\"1\" class=\"dataframe\">\n",
       "  <thead>\n",
       "    <tr style=\"text-align: right;\">\n",
       "      <th></th>\n",
       "      <th>result</th>\n",
       "      <th>bc</th>\n",
       "      <th>timestamp</th>\n",
       "      <th>req</th>\n",
       "      <th>event type</th>\n",
       "      <th>hit type</th>\n",
       "      <th>blank</th>\n",
       "      <th>eventid</th>\n",
       "      <th>checksum</th>\n",
       "      <th>board</th>\n",
       "      <th>channel</th>\n",
       "      <th>unix timestamp</th>\n",
       "      <th>pixel</th>\n",
       "    </tr>\n",
       "  </thead>\n",
       "  <tbody>\n",
       "    <tr>\n",
       "      <th>185</th>\n",
       "      <td>1</td>\n",
       "      <td>172</td>\n",
       "      <td>2823184779056</td>\n",
       "      <td>2823197512356</td>\n",
       "      <td>0</td>\n",
       "      <td>0</td>\n",
       "      <td>0</td>\n",
       "      <td>2095</td>\n",
       "      <td>1067881614</td>\n",
       "      <td>21</td>\n",
       "      <td>4</td>\n",
       "      <td>4.225448e+17</td>\n",
       "      <td>1051</td>\n",
       "    </tr>\n",
       "    <tr>\n",
       "      <th>186</th>\n",
       "      <td>1</td>\n",
       "      <td>153</td>\n",
       "      <td>2823185086634</td>\n",
       "      <td>2823197515982</td>\n",
       "      <td>0</td>\n",
       "      <td>0</td>\n",
       "      <td>0</td>\n",
       "      <td>2096</td>\n",
       "      <td>3953678921</td>\n",
       "      <td>19</td>\n",
       "      <td>1</td>\n",
       "      <td>4.225448e+17</td>\n",
       "      <td>1061</td>\n",
       "    </tr>\n",
       "    <tr>\n",
       "      <th>297</th>\n",
       "      <td>1</td>\n",
       "      <td>163</td>\n",
       "      <td>2823194379660</td>\n",
       "      <td>2823202251430</td>\n",
       "      <td>0</td>\n",
       "      <td>0</td>\n",
       "      <td>0</td>\n",
       "      <td>2411</td>\n",
       "      <td>640122712</td>\n",
       "      <td>20</td>\n",
       "      <td>3</td>\n",
       "      <td>4.225448e+17</td>\n",
       "      <td>1049</td>\n",
       "    </tr>\n",
       "    <tr>\n",
       "      <th>299</th>\n",
       "      <td>1</td>\n",
       "      <td>149</td>\n",
       "      <td>2823194445020</td>\n",
       "      <td>2823202265570</td>\n",
       "      <td>0</td>\n",
       "      <td>0</td>\n",
       "      <td>0</td>\n",
       "      <td>2413</td>\n",
       "      <td>4069458123</td>\n",
       "      <td>18</td>\n",
       "      <td>5</td>\n",
       "      <td>4.225448e+17</td>\n",
       "      <td>1085</td>\n",
       "    </tr>\n",
       "    <tr>\n",
       "      <th>345</th>\n",
       "      <td>1</td>\n",
       "      <td>55</td>\n",
       "      <td>2823196606968</td>\n",
       "      <td>2823204297016</td>\n",
       "      <td>0</td>\n",
       "      <td>0</td>\n",
       "      <td>0</td>\n",
       "      <td>2520</td>\n",
       "      <td>2693024966</td>\n",
       "      <td>6</td>\n",
       "      <td>7</td>\n",
       "      <td>4.225448e+17</td>\n",
       "      <td>47</td>\n",
       "    </tr>\n",
       "    <tr>\n",
       "      <th>...</th>\n",
       "      <td>...</td>\n",
       "      <td>...</td>\n",
       "      <td>...</td>\n",
       "      <td>...</td>\n",
       "      <td>...</td>\n",
       "      <td>...</td>\n",
       "      <td>...</td>\n",
       "      <td>...</td>\n",
       "      <td>...</td>\n",
       "      <td>...</td>\n",
       "      <td>...</td>\n",
       "      <td>...</td>\n",
       "      <td>...</td>\n",
       "    </tr>\n",
       "    <tr>\n",
       "      <th>265341</th>\n",
       "      <td>1</td>\n",
       "      <td>159</td>\n",
       "      <td>2831478842964</td>\n",
       "      <td>2831482805492</td>\n",
       "      <td>0</td>\n",
       "      <td>0</td>\n",
       "      <td>0</td>\n",
       "      <td>357481</td>\n",
       "      <td>632781527</td>\n",
       "      <td>19</td>\n",
       "      <td>7</td>\n",
       "      <td>4.225448e+17</td>\n",
       "      <td>1063</td>\n",
       "    </tr>\n",
       "    <tr>\n",
       "      <th>265342</th>\n",
       "      <td>1</td>\n",
       "      <td>217</td>\n",
       "      <td>2831478947902</td>\n",
       "      <td>2831482797596</td>\n",
       "      <td>0</td>\n",
       "      <td>0</td>\n",
       "      <td>0</td>\n",
       "      <td>357483</td>\n",
       "      <td>459125848</td>\n",
       "      <td>27</td>\n",
       "      <td>1</td>\n",
       "      <td>4.225448e+17</td>\n",
       "      <td>1082</td>\n",
       "    </tr>\n",
       "    <tr>\n",
       "      <th>265343</th>\n",
       "      <td>1</td>\n",
       "      <td>211</td>\n",
       "      <td>2831479098726</td>\n",
       "      <td>2831482806114</td>\n",
       "      <td>0</td>\n",
       "      <td>0</td>\n",
       "      <td>0</td>\n",
       "      <td>357484</td>\n",
       "      <td>3395580413</td>\n",
       "      <td>26</td>\n",
       "      <td>3</td>\n",
       "      <td>4.225448e+17</td>\n",
       "      <td>1065</td>\n",
       "    </tr>\n",
       "    <tr>\n",
       "      <th>265344</th>\n",
       "      <td>1</td>\n",
       "      <td>189</td>\n",
       "      <td>2831479214732</td>\n",
       "      <td>2831482810110</td>\n",
       "      <td>0</td>\n",
       "      <td>0</td>\n",
       "      <td>0</td>\n",
       "      <td>357485</td>\n",
       "      <td>2093666155</td>\n",
       "      <td>23</td>\n",
       "      <td>5</td>\n",
       "      <td>4.225448e+17</td>\n",
       "      <td>1052</td>\n",
       "    </tr>\n",
       "    <tr>\n",
       "      <th>265346</th>\n",
       "      <td>1</td>\n",
       "      <td>228</td>\n",
       "      <td>2831479446666</td>\n",
       "      <td>2831482824414</td>\n",
       "      <td>0</td>\n",
       "      <td>0</td>\n",
       "      <td>0</td>\n",
       "      <td>357487</td>\n",
       "      <td>4188728140</td>\n",
       "      <td>28</td>\n",
       "      <td>4</td>\n",
       "      <td>4.225448e+17</td>\n",
       "      <td>1078</td>\n",
       "    </tr>\n",
       "  </tbody>\n",
       "</table>\n",
       "<p>53945 rows × 13 columns</p>\n",
       "</div>"
      ],
      "text/plain": [
       "        result   bc      timestamp            req  event type  hit type  \\\n",
       "185          1  172  2823184779056  2823197512356           0         0   \n",
       "186          1  153  2823185086634  2823197515982           0         0   \n",
       "297          1  163  2823194379660  2823202251430           0         0   \n",
       "299          1  149  2823194445020  2823202265570           0         0   \n",
       "345          1   55  2823196606968  2823204297016           0         0   \n",
       "...        ...  ...            ...            ...         ...       ...   \n",
       "265341       1  159  2831478842964  2831482805492           0         0   \n",
       "265342       1  217  2831478947902  2831482797596           0         0   \n",
       "265343       1  211  2831479098726  2831482806114           0         0   \n",
       "265344       1  189  2831479214732  2831482810110           0         0   \n",
       "265346       1  228  2831479446666  2831482824414           0         0   \n",
       "\n",
       "        blank  eventid    checksum  board  channel  unix timestamp  pixel  \n",
       "185         0     2095  1067881614     21        4    4.225448e+17   1051  \n",
       "186         0     2096  3953678921     19        1    4.225448e+17   1061  \n",
       "297         0     2411   640122712     20        3    4.225448e+17   1049  \n",
       "299         0     2413  4069458123     18        5    4.225448e+17   1085  \n",
       "345         0     2520  2693024966      6        7    4.225448e+17     47  \n",
       "...       ...      ...         ...    ...      ...             ...    ...  \n",
       "265341      0   357481   632781527     19        7    4.225448e+17   1063  \n",
       "265342      0   357483   459125848     27        1    4.225448e+17   1082  \n",
       "265343      0   357484  3395580413     26        3    4.225448e+17   1065  \n",
       "265344      0   357485  2093666155     23        5    4.225448e+17   1052  \n",
       "265346      0   357487  4188728140     28        4    4.225448e+17   1078  \n",
       "\n",
       "[53945 rows x 13 columns]"
      ]
     },
     "execution_count": 62,
     "metadata": {},
     "output_type": "execute_result"
    }
   ],
   "source": [
    "singles.headers()"
   ]
  },
  {
   "cell_type": "code",
   "execution_count": 114,
   "id": "c7369cae",
   "metadata": {},
   "outputs": [],
   "source": [
    "data = singles.waves()"
   ]
  },
  {
   "cell_type": "code",
   "execution_count": 118,
   "id": "96d0ea0a",
   "metadata": {},
   "outputs": [
    {
     "name": "stdout",
     "output_type": "stream",
     "text": [
      "120 µs ± 282 ns per loop (mean ± std. dev. of 7 runs, 10,000 loops each)\n"
     ]
    }
   ],
   "source": [
    "%timeit data[0]"
   ]
  },
  {
   "cell_type": "code",
   "execution_count": 120,
   "id": "b7a0382f",
   "metadata": {},
   "outputs": [
    {
     "name": "stdout",
     "output_type": "stream",
     "text": [
      "130 µs ± 153 ns per loop (mean ± std. dev. of 7 runs, 10,000 loops each)\n"
     ]
    }
   ],
   "source": [
    "%timeit data[0:1000]"
   ]
  },
  {
   "cell_type": "code",
   "execution_count": 122,
   "id": "56906616",
   "metadata": {},
   "outputs": [
    {
     "name": "stdout",
     "output_type": "stream",
     "text": [
      "133 µs ± 253 ns per loop (mean ± std. dev. of 7 runs, 10,000 loops each)\n"
     ]
    }
   ],
   "source": [
    "%timeit data[0:10000]"
   ]
  },
  {
   "cell_type": "code",
   "execution_count": null,
   "id": "333c5398",
   "metadata": {},
   "outputs": [],
   "source": [
    "for i in range(100):\n",
    "    wave = data[i].compute()"
   ]
  },
  {
   "cell_type": "code",
   "execution_count": 127,
   "id": "704ed991",
   "metadata": {
    "scrolled": true
   },
   "outputs": [
    {
     "name": "stdout",
     "output_type": "stream",
     "text": [
      "(9216, 7000)\n",
      "(9216, 7000)\n",
      "(9216, 7000)\n",
      "(9216, 7000)\n",
      "(9216, 7000)\n",
      "(9216, 7000)\n",
      "(9216, 7000)\n",
      "(9216, 7000)\n",
      "(9216, 7000)\n",
      "(9216, 7000)\n",
      "(9216, 7000)\n",
      "(9216, 7000)\n",
      "(9216, 7000)\n",
      "(9216, 7000)\n",
      "(9216, 7000)\n",
      "(9216, 7000)\n",
      "(9216, 7000)\n",
      "(9216, 7000)\n",
      "(9216, 7000)\n",
      "(9216, 7000)\n",
      "(9216, 7000)\n",
      "(9216, 7000)\n",
      "(9216, 7000)\n",
      "(9216, 7000)\n",
      "(9216, 7000)\n",
      "(9216, 7000)\n",
      "(9216, 7000)\n",
      "(9216, 7000)\n",
      "(9216, 7000)\n",
      "(9216, 7000)\n",
      "(9216, 7000)\n",
      "(9216, 7000)\n",
      "(9216, 7000)\n",
      "(9216, 7000)\n",
      "(9216, 7000)\n",
      "(9216, 7000)\n",
      "(9216, 7000)\n",
      "(9216, 7000)\n",
      "(9216, 7000)\n",
      "(9216, 7000)\n",
      "(9216, 7000)\n",
      "(9216, 7000)\n",
      "(9216, 7000)\n",
      "(9216, 7000)\n",
      "(9216, 7000)\n",
      "(9216, 7000)\n",
      "(9216, 7000)\n",
      "(9216, 7000)\n",
      "(9216, 7000)\n",
      "(9216, 7000)\n",
      "(9216, 7000)\n",
      "(9216, 7000)\n",
      "(9216, 7000)\n",
      "(9216, 7000)\n",
      "(9216, 7000)\n",
      "(9216, 7000)\n",
      "(9216, 7000)\n",
      "(9216, 7000)\n",
      "(9216, 7000)\n",
      "(9216, 7000)\n",
      "(9216, 7000)\n",
      "(9216, 7000)\n",
      "(9216, 7000)\n",
      "(9216, 7000)\n",
      "(9216, 7000)\n",
      "(7771, 7000)\n"
     ]
    }
   ],
   "source": [
    "data = singles.waves()\n",
    "for block in data.blocks:\n",
    "    print(block.shape)"
   ]
  },
  {
   "cell_type": "code",
   "execution_count": 32,
   "id": "1257050b",
   "metadata": {
    "tags": []
   },
   "outputs": [
    {
     "name": "stdout",
     "output_type": "stream",
     "text": [
      "[0 1 0 0 1 1 0 2 0 0 1 0 0 0 1 0 0 0 1 1 2 1 1 2 2 1 1 2 1 2 2 1 2 1 1 1 1\n",
      " 1 2 2 2 0 1 2 0 0 0 2 2 1 1 0 0 1 0 0 1 1 1 1 1 1 0 2 1 1 2 1 0 1 1 0 1 0\n",
      " 0 0 0 0 1 2 1 0 1 2 1 2 2 1 0 1 0 1 1 0 1 2 0 1 2 2]\n",
      "(100,)\n"
     ]
    },
    {
     "data": {
      "image/png": "[encoded data removed]",
      "text/plain": [
       "<Figure size 640x480 with 1 Axes>"
      ]
     },
     "metadata": {},
     "output_type": "display_data"
    }
   ],
   "source": [
    "from sklearn.cluster import KMeans\n",
    "import numpy as np\n",
    "import matplotlib.pyplot as plt\n",
    "\n",
    "# Generate some sample data\n",
    "np.random.seed(0)\n",
    "X = np.random.rand(100, 2)\n",
    "\n",
    "# Perform KMeans clustering\n",
    "kmeans = KMeans(n_clusters=3, random_state=0)\n",
    "kmeans.fit(X)\n",
    "y_kmeans = kmeans.predict(X)\n",
    "print(y_kmeans)\n",
    "print(y_kmeans.shape)\n",
    "\n",
    "# Plot the data points and cluster centers\n",
    "plt.scatter(X[:, 0], X[:, 1], c=y_kmeans, s=50, cmap='viridis')\n",
    "centers = kmeans.cluster_centers_\n",
    "plt.scatter(centers[:, 0], centers[:, 1], c='red', s=200, alpha=0.5)\n",
    "plt.xlabel('Feature 1')\n",
    "plt.ylabel('Feature 2')\n",
    "plt.title('KMeans Clustering')\n",
    "plt.show()"
   ]
  },
  {
   "cell_type": "code",
   "execution_count": 52,
   "id": "4218d6d2-985e-4a17-9f81-d64bc5298fcf",
   "metadata": {
    "tags": []
   },
   "outputs": [
    {
     "data": {
      "image/png": "[encoded data removed]",
      "text/plain": [
       "<Figure size 640x480 with 1 Axes>"
      ]
     },
     "metadata": {},
     "output_type": "display_data"
    }
   ],
   "source": [
    "X = goodWaves[0:40] #waveforms with energy greater than 300 and t0 between 3000 and 4000\n",
    "kmeans = KMeans(n_clusters=3, random_state=0)\n",
    "kmeans.fit(X)\n",
    "y_kmeans = kmeans.predict(X)\n",
    "\n",
    "# Plot the data points and cluster centers\n",
    "plt.scatter(X[:, 3500], X[:, 3501], c=y_kmeans, s=50, cmap='viridis')\n",
    "centers = kmeans.cluster_centers_\n",
    "plt.scatter(centers[:, 0], centers[:, 1], c='red', s=200, alpha=0.5)\n",
    "plt.xlabel('Feature 1')\n",
    "plt.ylabel('Feature 2')\n",
    "plt.title('KMeans Clustering')\n",
    "plt.show()"
   ]
  },
  {
   "cell_type": "code",
   "execution_count": 45,
   "id": "1099b1ae-c0f8-4f61-9f01-7d07d004118c",
   "metadata": {},
   "outputs": [
    {
     "name": "stdout",
     "output_type": "stream",
     "text": [
      "[[-3.6035713e+01 -3.7464287e+01 -4.0357143e+01 ...  1.4642944e+00\n",
      "  -1.0713959e-01 -1.1071510e+00]\n",
      " [-2.6111111e+01 -2.7555557e+01 -2.3111111e+01 ...  1.3055557e+02\n",
      "   1.2744444e+02  1.2499999e+02]\n",
      " [-2.0000000e+01 -2.3666666e+01 -3.0666666e+01 ...  2.3100000e+02\n",
      "   2.2633334e+02  2.1900003e+02]]\n"
     ]
    }
   ],
   "source": [
    "print(centers)"
   ]
  },
  {
   "cell_type": "code",
   "execution_count": 46,
   "id": "434ce932-854b-4bd9-8566-e0cd831b4c12",
   "metadata": {
    "tags": []
   },
   "outputs": [
    {
     "data": {
      "text/html": [
       "<table>\n",
       "    <tr>\n",
       "        <td>\n",
       "            <table style=\"border-collapse: collapse;\">\n",
       "                <thead>\n",
       "                    <tr>\n",
       "                        <td> </td>\n",
       "                        <th> Array </th>\n",
       "                        <th> Chunk </th>\n",
       "                    </tr>\n",
       "                </thead>\n",
       "                <tbody>\n",
       "                    \n",
       "                    <tr>\n",
       "                        <th> Bytes </th>\n",
       "                        <td> 1.07 MiB </td>\n",
       "                        <td> 1.07 MiB </td>\n",
       "                    </tr>\n",
       "                    \n",
       "                    <tr>\n",
       "                        <th> Shape </th>\n",
       "                        <td> (40, 7000) </td>\n",
       "                        <td> (40, 7000) </td>\n",
       "                    </tr>\n",
       "                    <tr>\n",
       "                        <th> Dask graph </th>\n",
       "                        <td colspan=\"2\"> 1 chunks in 5 graph layers </td>\n",
       "                    </tr>\n",
       "                    <tr>\n",
       "                        <th> Data type </th>\n",
       "                        <td colspan=\"2\"> float32 numpy.ndarray </td>\n",
       "                    </tr>\n",
       "                </tbody>\n",
       "            </table>\n",
       "        </td>\n",
       "        <td>\n",
       "        <svg width=\"170\" height=\"75\" style=\"stroke:rgb(0,0,0);stroke-width:1\" >\n",
       "\n",
       "  <!-- Horizontal lines -->\n",
       "  <line x1=\"0\" y1=\"0\" x2=\"120\" y2=\"0\" style=\"stroke-width:2\" />\n",
       "  <line x1=\"0\" y1=\"25\" x2=\"120\" y2=\"25\" style=\"stroke-width:2\" />\n",
       "\n",
       "  <!-- Vertical lines -->\n",
       "  <line x1=\"0\" y1=\"0\" x2=\"0\" y2=\"25\" style=\"stroke-width:2\" />\n",
       "  <line x1=\"120\" y1=\"0\" x2=\"120\" y2=\"25\" style=\"stroke-width:2\" />\n",
       "\n",
       "  <!-- Colored Rectangle -->\n",
       "  <polygon points=\"0.0,0.0 120.0,0.0 120.0,25.412616514582485 0.0,25.412616514582485\" style=\"fill:#ECB172A0;stroke-width:0\"/>\n",
       "\n",
       "  <!-- Text -->\n",
       "  <text x=\"60.000000\" y=\"45.412617\" font-size=\"1.0rem\" font-weight=\"100\" text-anchor=\"middle\" >7000</text>\n",
       "  <text x=\"140.000000\" y=\"12.706308\" font-size=\"1.0rem\" font-weight=\"100\" text-anchor=\"middle\" transform=\"rotate(0,140.000000,12.706308)\">40</text>\n",
       "</svg>\n",
       "        </td>\n",
       "    </tr>\n",
       "</table>"
      ],
      "text/plain": [
       "dask.array<getitem, shape=(40, 7000), dtype=float32, chunksize=(40, 7000), chunktype=numpy.ndarray>"
      ]
     },
     "execution_count": 46,
     "metadata": {},
     "output_type": "execute_result"
    }
   ],
   "source": [
    "X"
   ]
  },
  {
   "cell_type": "code",
   "execution_count": 48,
   "id": "ccc5e128-6540-41fc-9e09-9a0c1921d86f",
   "metadata": {
    "tags": []
   },
   "outputs": [
    {
     "data": {
      "text/plain": [
       "array([1, 0, 0, 0, 0, 2, 0, 1, 0, 0, 0, 0, 0, 0, 0, 1, 0, 0, 0, 0, 0, 0,\n",
       "       0, 1, 0, 0, 0, 0, 1, 1, 2, 0, 0, 1, 1, 0, 1, 2, 0, 0], dtype=int32)"
      ]
     },
     "execution_count": 48,
     "metadata": {},
     "output_type": "execute_result"
    }
   ],
   "source": [
    "y_kmeans"
   ]
  },
  {
   "cell_type": "code",
   "execution_count": null,
   "id": "18871959-a606-4f25-8ea2-bb3fcd3edc2a",
   "metadata": {},
   "outputs": [],
   "source": []
  }
 ],
 "metadata": {
  "kernelspec": {
   "display_name": "NAB",
   "language": "python",
   "name": "nab"
  },
  "language_info": {
   "codemirror_mode": {
    "name": "ipython",
    "version": 3
   },
   "file_extension": ".py",
   "mimetype": "text/x-python",
   "name": "python",
   "nbconvert_exporter": "python",
   "pygments_lexer": "ipython3",
   "version": "3.9.18"
  }
 },
 "nbformat": 4,
 "nbformat_minor": 5
}
